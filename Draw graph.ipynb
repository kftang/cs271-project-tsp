{
 "cells": [
  {
   "cell_type": "code",
   "execution_count": 1,
   "id": "cc8c1ba7",
   "metadata": {},
   "outputs": [],
   "source": [
    "import numpy as np\n",
    "import networkx as nx\n",
    "from pathlib import Path\n",
    "\n",
    "input_path = Path('data/tsp-problem-100-4000-100-25-1.txt')\n",
    "\n",
    "# parse input file\n",
    "with input_path.open() as input_file:\n",
    "    num_nodes = int(input_file.readline())\n",
    "    adj_matrix = np.empty((num_nodes, num_nodes))\n",
    "    for i in range(num_nodes):\n",
    "        distances = map(float, input_file.readline().split())\n",
    "        for j, distance in enumerate(distances):\n",
    "            adj_matrix[i][j] = distance\n",
    "\n",
    "g = nx.from_numpy_array(adj_matrix)"
   ]
  },
  {
   "cell_type": "code",
   "execution_count": 2,
   "id": "f862de56",
   "metadata": {},
   "outputs": [],
   "source": [
    "import networkx as nx\n",
    "import numpy as np\n",
    "import math\n",
    "\n",
    "def heuristic(g: nx.Graph, cur_node_idx: int, next_node_idx: int) -> float:\n",
    "  cur_next_dist = g[cur_node_idx][next_node_idx]['weight']\n",
    "  return cur_next_dist\n",
    "\n",
    "\n",
    "def sls(g) -> 'List[node]':\n",
    "  solution = [0]\n",
    "  visited = {0}\n",
    "  last_node = 0\n",
    "  while len(solution) != len(g.nodes):\n",
    "    min_node = None\n",
    "    min_score = math.inf\n",
    "    for node in range(len(g.nodes)):\n",
    "      if node in visited:\n",
    "        continue\n",
    "      score = heuristic(g, last_node, node)\n",
    "      if score < min_score:\n",
    "        min_node = node\n",
    "        min_score = score\n",
    "\n",
    "    visited.add(min_node)\n",
    "    solution.append(min_node)\n",
    "    last_node = min_node\n",
    "  solution.append(0)\n",
    "  return solution"
   ]
  },
  {
   "cell_type": "code",
   "execution_count": 3,
   "id": "b2ce691b",
   "metadata": {},
   "outputs": [
    {
     "name": "stdout",
     "output_type": "stream",
     "text": [
      "[0, 81, 47, 4, 61, 16, 92, 28, 74, 48, 83, 70, 95, 24, 59, 51, 73, 1, 21, 98, 14, 38, 46, 13, 32, 30, 7, 84, 79, 99, 54, 19, 55, 52, 53, 25, 18, 64, 22, 50, 39, 96, 11, 82, 75, 9, 60, 91, 20, 36, 66, 88, 3, 17, 94, 57, 31, 69, 78, 89, 8, 77, 58, 49, 6, 5, 15, 65, 44, 85, 71, 37, 26, 12, 68, 93, 40, 86, 41, 97, 42, 56, 72, 29, 27, 62, 80, 63, 87, 23, 90, 43, 45, 10, 34, 67, 76, 35, 2, 33, 0]\n"
     ]
    },
    {
     "data": {
      "text/plain": [
       "4750.171961628847"
      ]
     },
     "execution_count": 3,
     "metadata": {},
     "output_type": "execute_result"
    }
   ],
   "source": [
    "path = sls(g)\n",
    "print(path)\n",
    "nx.path_weight(g, path, 'weight')"
   ]
  },
  {
   "cell_type": "code",
   "execution_count": 4,
   "id": "b47201ed",
   "metadata": {},
   "outputs": [
    {
     "name": "stdout",
     "output_type": "stream",
     "text": [
      "[0, 64, 22, 97, 41, 13, 46, 38, 93, 68, 12, 16, 92, 28, 74, 28, 73, 51, 59, 95, 24, 31, 57, 67, 56, 39, 63, 87, 66, 55, 32, 30, 7, 37, 7, 84, 34, 88, 3, 79, 10, 45, 35, 52, 53, 25, 18, 46, 75, 71, 85, 44, 90, 23, 72, 80, 83, 48, 9, 75, 40, 86, 70, 17, 70, 47, 94, 31, 69, 78, 62, 76, 81, 47, 4, 61, 16, 58, 99, 54, 19, 55, 98, 14, 2, 42, 43, 82, 11, 89, 8, 77, 20, 36, 21, 1, 25, 96, 39, 50, 29, 27, 29, 60, 91, 26, 15, 65, 15, 5, 6, 49, 33]\n"
     ]
    },
    {
     "data": {
      "text/plain": [
       "4967.312366701204"
      ]
     },
     "execution_count": 4,
     "metadata": {},
     "output_type": "execute_result"
    }
   ],
   "source": [
    "opt_path = nx.approximation.traveling_salesman_problem(g, cycle=False)\n",
    "print(opt_path)\n",
    "nx.path_weight(g, opt_path, 'weight')"
   ]
  },
  {
   "cell_type": "code",
   "execution_count": 6,
   "id": "bfaa8c0d",
   "metadata": {},
   "outputs": [
    {
     "name": "stdout",
     "output_type": "stream",
     "text": [
      "[0, 81, 47, 4, 61, 16, 92, 28, 74, 48, 83, 70, 95, 24, 59, 51, 73, 1, 21, 98, 14, 38, 46, 13, 32, 30, 7, 84, 79, 99, 54, 19, 55, 52, 53, 25, 18, 64, 22, 50, 39, 96, 11, 82, 75, 9, 60, 91, 20, 36, 66, 88, 3, 17, 94, 57, 31, 69, 78, 89, 8, 77, 58, 49, 6, 5, 15, 65, 44, 85, 71, 37, 26, 12, 68, 93, 40, 86, 41, 97, 42, 56, 72, 29, 27, 62, 80, 63, 87, 23, 90, 43, 45, 10, 34, 67, 76, 35, 2, 33, 0]\n"
     ]
    },
    {
     "data": {
      "text/plain": [
       "4750.171961628847"
      ]
     },
     "execution_count": 6,
     "metadata": {},
     "output_type": "execute_result"
    }
   ],
   "source": [
    "opt_path = nx.approximation.simulated_annealing_tsp(g, 'greedy', max_iterations=1000)\n",
    "print(opt_path)\n",
    "nx.path_weight(g, opt_path, 'weight')"
   ]
  },
  {
   "cell_type": "code",
   "execution_count": null,
   "id": "cd815d1c",
   "metadata": {},
   "outputs": [],
   "source": []
  }
 ],
 "metadata": {
  "kernelspec": {
   "display_name": "Python 3 (ipykernel)",
   "language": "python",
   "name": "python3"
  },
  "language_info": {
   "codemirror_mode": {
    "name": "ipython",
    "version": 3
   },
   "file_extension": ".py",
   "mimetype": "text/x-python",
   "name": "python",
   "nbconvert_exporter": "python",
   "pygments_lexer": "ipython3",
   "version": "3.8.10"
  }
 },
 "nbformat": 4,
 "nbformat_minor": 5
}
